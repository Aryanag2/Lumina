{
 "cells": [
  {
   "cell_type": "code",
   "execution_count": 8,
   "metadata": {},
   "outputs": [
    {
     "name": "stdout",
     "output_type": "stream",
     "text": [
      "Chroma DB is stored in: /Users/nittinmurthi/Documents/VS_Code/120-AI-TA/kc-retriever\n",
      "Directory exists: True\n",
      "Contents of the directory: ['8eef439e-cf2c-4d12-937d-5366c39ffecd', 'chroma.sqlite3']\n"
     ]
    }
   ],
   "source": [
    "import os\n",
    "from langchain.vectorstores import Chroma\n",
    "from langchain.schema import Document\n",
    "from langchain_community.embeddings import OllamaEmbeddings\n",
    "\n",
    "# Assuming you're using OllamaEmbeddings\n",
    "embedding = OllamaEmbeddings(model=\"nomic-embed-text\")\n",
    "\n",
    "kc_texts = [\n",
    "    \"1. Syntax and Structure: Variable declaration and initialization, Function definition and calling, Control structures (if, else, switch, loops), Array manipulation, Pointer usage\",\n",
    "    \"2. Memory Management: Stack vs. heap allocation, Dynamic memory allocation (malloc, free), Memory leaks and dangling pointers\",\n",
    "    \"3. Data Types and Operations: Primitive data types (int, float, char, etc.), Type casting and conversion, Bitwise operations\",\n",
    "    \"4. Input/Output: Standard I/O functions (printf, scanf), File I/O operations\",\n",
    "    \"5. Debugging Techniques: Using print statements for debugging, Debugging tools (gdb, valgrind), Common runtime errors and their causes\",\n",
    "    \"6. Code Organization: Header files and #include directives, Modular programming principles, Code documentation and commenting\"\n",
    "]\n",
    "\n",
    "# Create Document objects from the KC texts\n",
    "kc_docs = [Document(page_content=text, metadata={\"source\": \"KC\"}) for text in kc_texts]\n",
    "\n",
    "# Specify an absolute path for Chroma to store its data\n",
    "persist_directory = os.path.join(os.getcwd(), \"kc-retriever\")\n",
    "\n",
    "# Initialize Chroma vector store with the documents and embeddings, and specify the persist directory\n",
    "vectorstore_kc = Chroma.from_documents(kc_docs, embedding, persist_directory=persist_directory)\n",
    "\n",
    "# Create a retriever from the Chroma vector store\n",
    "retriever_kc = vectorstore_kc.as_retriever()\n",
    "\n",
    "print(f\"Chroma DB is stored in: {persist_directory}\")\n",
    "print(f\"Directory exists: {os.path.exists(persist_directory)}\")\n",
    "print(f\"Contents of the directory: {os.listdir(persist_directory)}\")"
   ]
  },
  {
   "cell_type": "code",
   "execution_count": null,
   "metadata": {},
   "outputs": [],
   "source": []
  }
 ],
 "metadata": {
  "kernelspec": {
   "display_name": "ai-ta-env",
   "language": "python",
   "name": "python3"
  },
  "language_info": {
   "codemirror_mode": {
    "name": "ipython",
    "version": 3
   },
   "file_extension": ".py",
   "mimetype": "text/x-python",
   "name": "python",
   "nbconvert_exporter": "python",
   "pygments_lexer": "ipython3",
   "version": "3.12.4"
  }
 },
 "nbformat": 4,
 "nbformat_minor": 2
}
